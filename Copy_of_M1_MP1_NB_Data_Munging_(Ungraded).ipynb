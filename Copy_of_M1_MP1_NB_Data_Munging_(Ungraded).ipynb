{
  "nbformat": 4,
  "nbformat_minor": 0,
  "metadata": {
    "colab": {
      "private_outputs": true,
      "provenance": [],
      "include_colab_link": true
    },
    "kernelspec": {
      "display_name": "Python 3",
      "language": "python",
      "name": "python3"
    },
    "language_info": {
      "codemirror_mode": {
        "name": "ipython",
        "version": 3
      },
      "file_extension": ".py",
      "mimetype": "text/x-python",
      "name": "python",
      "nbconvert_exporter": "python",
      "pygments_lexer": "ipython3",
      "version": "3.6.7rc1"
    }
  },
  "cells": [
    {
      "cell_type": "markdown",
      "metadata": {
        "id": "view-in-github",
        "colab_type": "text"
      },
      "source": [
        "<a href=\"https://colab.research.google.com/github/Ashish-18/practice/blob/master/Copy_of_M1_MP1_NB_Data_Munging_(Ungraded).ipynb\" target=\"_parent\"><img src=\"https://colab.research.google.com/assets/colab-badge.svg\" alt=\"Open In Colab\"/></a>"
      ]
    },
    {
      "cell_type": "markdown",
      "metadata": {
        "id": "aUUu9l_JfJ92"
      },
      "source": [
        "# Advanced Certification Program in Computational Data Science\n",
        "\n",
        "##  A program by IISc and TalentSprint\n",
        "\n",
        "### Mini Project Notebook 1 : Data Munging (Ungraded)\n",
        "\n"
      ]
    },
    {
      "cell_type": "markdown",
      "metadata": {
        "id": "SL3yrUc-XrLS"
      },
      "source": [
        "## Learning Objectives"
      ]
    },
    {
      "cell_type": "code",
      "source": [],
      "metadata": {
        "id": "tIjOQGKRLTUt"
      },
      "execution_count": null,
      "outputs": []
    },
    {
      "cell_type": "markdown",
      "metadata": {
        "id": "nljJR6CwfZN_"
      },
      "source": [
        "\n",
        "\n",
        "At the end of the experiment, you will be able to :\n",
        "\n",
        "\n",
        "* understand the requirements for a “clean” dataset, ready for use in statistical analysis\n",
        "\n",
        "* use Python libraries like Pandas, Numpy, and Matplotlib to perform the  data-preprocessing steps\n",
        "\n",
        "* obtain probability and statistics based insights from the data\n"
      ]
    },
    {
      "cell_type": "markdown",
      "metadata": {
        "id": "pMh1cTQ0Y0wZ"
      },
      "source": [
        "## Dataset"
      ]
    },
    {
      "cell_type": "markdown",
      "metadata": {
        "id": "dlCSHY5_Y0wb"
      },
      "source": [
        "The dataset chosen for this experiment is the **Play Store** dataset which is  publicly available and created with this [methodology](https://nycdatascience.com/blog/student-works/google-play-store-everything-that-you-need-to-know-about-the-android-market/)  \n",
        "\n",
        "This dataset consists of 10841 records. Each record is made up of 13 fields.\n",
        "\n",
        "**For example**, Each record consists of App, Category, Rating, Reviews, Size, Installs, Type, Price, Content Rating, Genres, Last Updated, Current Ver, and Android Ver."
      ]
    },
    {
      "cell_type": "markdown",
      "metadata": {
        "id": "KovpIBt2Ztv8"
      },
      "source": [
        "## Problem Statement"
      ]
    },
    {
      "cell_type": "markdown",
      "metadata": {
        "id": "GYdLgvhhZtwA"
      },
      "source": [
        "Before we can derive any meaningful insights from the Play Store data, it is essential to pre-process the data and make it suitable for further analysis. This pre-processing step forms a major part of data wrangling (or data munging) and ensures better quality data. It consists of the transformation and mapping of data from a \"raw\" data form into another format so that it is more valuable for a variety of downstream purposes such as analytics. Data analysts typically spend a sizeable amount of time in the process of data wrangling, compared to the actual analysis of the data."
      ]
    },
    {
      "cell_type": "markdown",
      "metadata": {
        "id": "SqM_j0MiZtv-"
      },
      "source": [
        "After data munging is performed, several actionable insights can be derived from the Play Store apps data. Such insights could help to unlock the enormous potential to drive app-making businesses to success."
      ]
    },
    {
      "cell_type": "code",
      "metadata": {
        "id": "4Gi2zCP0ZtwB"
      },
      "source": [
        "#@title Download the data\n",
        "!wget -qq https://cdn.iisc.talentsprint.com/CDS/Datasets/googleplaystore.csv"
      ],
      "execution_count": null,
      "outputs": []
    },
    {
      "cell_type": "markdown",
      "metadata": {
        "id": "epVoy2b_Z05e"
      },
      "source": [
        "#### Import required packages"
      ]
    },
    {
      "cell_type": "code",
      "metadata": {
        "id": "z1RX1oi_Z4Nu"
      },
      "source": [
        "import numpy as np\n",
        "import seaborn as sns\n",
        "import pandas as pd\n",
        "from matplotlib import pyplot as plt"
      ],
      "execution_count": null,
      "outputs": []
    },
    {
      "cell_type": "markdown",
      "metadata": {
        "id": "YmOJDVdp9PYo"
      },
      "source": [
        "#### Load the dataset"
      ]
    },
    {
      "cell_type": "code",
      "metadata": {
        "id": "6DrVCIg54LZp"
      },
      "source": [
        "# YOUR CODE HERE\n",
        "df1= pd.read_csv(\"googleplaystore.csv\")\n",
        "df1.head(3)"
      ],
      "execution_count": null,
      "outputs": []
    },
    {
      "cell_type": "markdown",
      "metadata": {
        "id": "li5KS0i3pQqq"
      },
      "source": [
        "## Pre-processing"
      ]
    },
    {
      "cell_type": "markdown",
      "metadata": {
        "id": "VSrwuDKposoF"
      },
      "source": [
        "### Task 1: Data Cleaning\n",
        "\n",
        "* Check whether there are any null values and figure out how you want to handle them?\n",
        "  \n",
        "    **Hint:** isnan(), dropna(), fillna()\n",
        "* If there is any duplication of a record, how would you like to handle it?\n",
        "\n",
        "    Hint: [drop_duplicates](https://pandas.pydata.org/pandas-docs/stable/reference/api/pandas.DataFrame.drop_duplicates.html)\n",
        "\n",
        "* Are there any non-English apps? And how to filter them?\n",
        "\n",
        "* In the size column, multiply 1,000,000 with M in the cell and multiply by 1000 if we have K in the cell."
      ]
    },
    {
      "cell_type": "markdown",
      "source": [
        "# YOUR CODE HERE\n",
        "df1=df1.drop_duplicates()\n",
        "df1"
      ],
      "metadata": {
        "id": "rgCf41v3FHLw"
      }
    },
    {
      "cell_type": "code",
      "source": [
        "# Check whether there are any null values and figure out how you want to handle them?\n",
        "df1.isna().sum()"
      ],
      "metadata": {
        "id": "4EvtXFIWet_o"
      },
      "execution_count": null,
      "outputs": []
    },
    {
      "cell_type": "code",
      "source": [
        "app=df1.App.unique()\n",
        "app_counts = df1['App'].value_counts()\n",
        "app_counts"
      ],
      "metadata": {
        "id": "lD2qIgc0eqy8"
      },
      "execution_count": null,
      "outputs": []
    },
    {
      "cell_type": "code",
      "source": [
        "# Filling NaN values with mean - Rating column\n",
        "#df1['Rating']=df1['Rating'].fillna(df1['Rating'].mean())\n"
      ],
      "metadata": {
        "id": "Bp_5uZIOfs3W"
      },
      "execution_count": null,
      "outputs": []
    },
    {
      "cell_type": "code",
      "source": [
        "df1.isna().sum()"
      ],
      "metadata": {
        "id": "m69RMe4es2mN"
      },
      "execution_count": null,
      "outputs": []
    },
    {
      "cell_type": "code",
      "source": [
        "# As we have negligible NaN count in Content rating, current ver and Android ver so we can drop these rows\n",
        "\n",
        "df1=df1.dropna()\n"
      ],
      "metadata": {
        "id": "C07-ieh2s2OL"
      },
      "execution_count": null,
      "outputs": []
    },
    {
      "cell_type": "code",
      "source": [
        "df1.isna().sum().sum()"
      ],
      "metadata": {
        "id": "TQC5qJpPtYEy"
      },
      "execution_count": null,
      "outputs": []
    },
    {
      "cell_type": "code",
      "source": [
        "# Drop duplicates\n",
        "df1=df1.drop_duplicates()"
      ],
      "metadata": {
        "id": "floZd2eAueFl"
      },
      "execution_count": null,
      "outputs": []
    },
    {
      "cell_type": "code",
      "source": [
        "# Are there any non-English apps? And how to filter them?\n",
        "#df2=df1['App'].str.contains('English', case=False)\n",
        "#df3=df1[~df2]\n",
        "#df3.head(3)\n",
        "\n",
        "def check_english(column):\n",
        "  is_eng = []\n",
        "  for entry in column:\n",
        "    is_eng.append(entry.isascii())\n",
        "  return is_eng\n",
        "\n",
        "num_non_english = df1.shape[0] - sum(check_english(df1['App']))\n",
        "print(\"Number of non english apps : \", num_non_english)\n",
        "df_english_apps = df1[check_english(df1['App'])]\n",
        "print('Size of dataframe with only english apps : ', df_english_apps.shape)"
      ],
      "metadata": {
        "id": "7Xb1q214ucJO"
      },
      "execution_count": null,
      "outputs": []
    },
    {
      "cell_type": "code",
      "source": [
        "df1[~df1['App'].apply(lambda x: x.isascii())]['App']\n"
      ],
      "metadata": {
        "id": "SCTdv2ubMLEE"
      },
      "execution_count": null,
      "outputs": []
    },
    {
      "cell_type": "code",
      "source": [
        "s = \"AutoScout24 Switzerland – Find your new car\"\n",
        "for i in s:\n",
        "    print(i, i.isascii())"
      ],
      "metadata": {
        "id": "GeYGuJ6SNjZs"
      },
      "execution_count": null,
      "outputs": []
    },
    {
      "cell_type": "code",
      "source": [
        "# In the size column, multiply 1,000,000 with M in the cell and multiply by 1000 if we have K in the cell.\n",
        "def convert_size(Size_str):\n",
        "    if 'M' in Size_str:\n",
        "        return float(Size_str.replace('M', '')) * 1000000\n",
        "    elif 'K' in Size_str:\n",
        "        return float(Size_str.replace('K', '')) * 1000\n",
        "    else:\n",
        "        return np.nan\n",
        "\n",
        "df1['Size'] = df1['Size'].apply(convert_size)\n",
        "df1.head(3)"
      ],
      "metadata": {
        "id": "1A3swjosucFx"
      },
      "execution_count": null,
      "outputs": []
    },
    {
      "cell_type": "markdown",
      "metadata": {
        "id": "UrPzlHc4-zIR"
      },
      "source": [
        "## Visualization"
      ]
    },
    {
      "cell_type": "markdown",
      "metadata": {
        "id": "qFgtC_jCpJL1"
      },
      "source": [
        "### Task 2: Perform the  following tasks:"
      ]
    },
    {
      "cell_type": "markdown",
      "metadata": {
        "id": "5QQ2WUQX9XYy"
      },
      "source": [
        "##### Exercise 1: Find the number of apps in various categories by using an appropriate plot."
      ]
    },
    {
      "cell_type": "code",
      "metadata": {
        "id": "zcRjzr9YRo72"
      },
      "source": [
        "# YOUR CODE HERE\n",
        "plt.figure(figsize=(10, 6))\n",
        "sns.countplot(data=df1, x='Category',order=df1['Category'].value_counts().index)\n",
        "plt.title('Number of Apps in Various Categories')\n",
        "plt.xlabel('Category')\n",
        "plt.ylabel('Number of Apps')\n",
        "plt.xticks(rotation=45)\n",
        "plt.show()"
      ],
      "execution_count": null,
      "outputs": []
    },
    {
      "cell_type": "markdown",
      "metadata": {
        "id": "uzzEnMv25vGn"
      },
      "source": [
        "##### Exercise 2: Explore the distribution of free and paid apps across different categories\n",
        "\n",
        "**Hint:** Stacked Bar Graph, [link](https://matplotlib.org/3.1.1/gallery/lines_bars_and_markers/bar_stacked.html)"
      ]
    },
    {
      "cell_type": "code",
      "metadata": {
        "id": "UzxR7Gj4Rrbw"
      },
      "source": [
        "# YOUR CODE HERE\n",
        "category_type_counts = df1.groupby(['Category', 'Type']).size().unstack(fill_value=0)\n",
        "category_type_counts.plot(kind='bar', stacked=True, figsize=(12, 8))\n",
        "\n",
        "plt.title('Distribution of Free and Paid Apps Across Different Categories')\n",
        "plt.xlabel('Category')\n",
        "plt.ylabel('Number of Apps')\n",
        "plt.xticks(rotation=45)\n",
        "plt.legend(title='App Type')\n",
        "plt.show()"
      ],
      "execution_count": null,
      "outputs": []
    },
    {
      "cell_type": "markdown",
      "metadata": {
        "id": "OFNIQ4dj59Ep"
      },
      "source": [
        "##### Exercise 3: Represent the distribution of app rating on a scale of 1-5 using an appropriate plot\n",
        "\n",
        "**Hint:** histogram / strip plot"
      ]
    },
    {
      "cell_type": "code",
      "metadata": {
        "id": "0ZDWxb_JRtBl"
      },
      "source": [
        "# YOUR CODE HERE\n",
        "# Plotting the histogram\n",
        "plt.hist(df1['Rating'], bins=range(1,6), color='skyblue', edgecolor='black')\n",
        "\n",
        "# Adding labels and title\n",
        "plt.xlabel('Rating')\n",
        "plt.ylabel('Frequency')\n",
        "plt.title('Distribution of App Ratings')\n",
        "\n",
        "# Setting x-axis ticks to correspond to rating categories\n",
        "plt.xticks(range(1, 6))\n",
        "\n",
        "# Display the plot\n",
        "plt.grid(axis='y', linestyle='--', alpha=0.7)\n",
        "plt.show()"
      ],
      "execution_count": null,
      "outputs": []
    },
    {
      "cell_type": "markdown",
      "metadata": {
        "id": "mWglBy3pDK3g"
      },
      "source": [
        "\n",
        "##### Exercise 4: Identify outliers of the rating column by plotting the boxplot category wise and handle them.\n",
        "\n",
        "**Hint:** Removing outliers using Z-score, quantile [link](https://kanoki.org/2020/04/23/how-to-remove-outliers-in-python/)"
      ]
    },
    {
      "cell_type": "code",
      "source": [
        "df1.Rating.describe()"
      ],
      "metadata": {
        "id": "H-4yUpMsScrd"
      },
      "execution_count": null,
      "outputs": []
    },
    {
      "cell_type": "code",
      "source": [
        "# YOUR CODE HERE\n",
        "mean = np.mean(df1.Rating)\n",
        "std = np.std(df1.Rating)\n",
        "threshold = 3\n",
        "outlier = []\n",
        "for i in df1.Rating:\n",
        "    z = abs((i-mean)/std)\n",
        "    if z > threshold:\n",
        "        outlier.append(i)\n",
        "print(len(outlier))"
      ],
      "metadata": {
        "id": "JYkduTK0StiN"
      },
      "execution_count": null,
      "outputs": []
    },
    {
      "cell_type": "code",
      "source": [
        "sns.boxplot(df1.Rating)"
      ],
      "metadata": {
        "id": "zuF_f8owTsm2"
      },
      "execution_count": null,
      "outputs": []
    },
    {
      "cell_type": "code",
      "metadata": {
        "id": "ehVoOe9ARv0w"
      },
      "source": [
        "sns.boxplot(x=\"Category\", y=\"Rating\", data=df1)"
      ],
      "execution_count": null,
      "outputs": []
    },
    {
      "cell_type": "markdown",
      "metadata": {
        "id": "yiOWt855DsZ8"
      },
      "source": [
        "##### Exercise 5: Plot the barplot of all the categories indicating no. of installs"
      ]
    },
    {
      "cell_type": "code",
      "source": [
        "# YOUR CODE HERE\n",
        "df1['Installs'] = df1['Installs'].apply(lambda x: x.replace('+',''))\n",
        "df1['Installs'] = df1['Installs'].apply(lambda x: x.replace(',',''))\n",
        "df1['Installs']=df1['Installs'].astype(int)"
      ],
      "metadata": {
        "id": "GvEIiSouWqAb"
      },
      "execution_count": null,
      "outputs": []
    },
    {
      "cell_type": "code",
      "metadata": {
        "id": "s3LW5CejRyBc"
      },
      "source": [
        "sns.barplot(x=\"Category\", y=\"Installs\", data=df1,errorbar=None)"
      ],
      "execution_count": null,
      "outputs": []
    },
    {
      "cell_type": "markdown",
      "metadata": {
        "id": "nLNboJI1bDhL"
      },
      "source": [
        "## Insights\n"
      ]
    },
    {
      "cell_type": "markdown",
      "metadata": {
        "id": "boBhK2SdGXlW"
      },
      "source": [
        "### Task 3: Derive the below insights"
      ]
    },
    {
      "cell_type": "markdown",
      "metadata": {
        "id": "AtVLkGB_ANwf"
      },
      "source": [
        "##### Exercise 1: Does the price correlate with the size of the app?\n",
        "\n",
        "  **Hint:** plot the scatterplot of `Size` and `Price`"
      ]
    },
    {
      "cell_type": "code",
      "source": [
        "df1['Price'] = df1['Price'].apply(lambda x: x.replace('$',''))\n",
        "df1['Price']=df1['Price'].astype(float)"
      ],
      "metadata": {
        "id": "q7r9OFObX2rm"
      },
      "execution_count": null,
      "outputs": []
    },
    {
      "cell_type": "code",
      "metadata": {
        "id": "tDhPtmBCJC41"
      },
      "source": [
        "# YOUR CODE HERE\n",
        "sns.scatterplot(x=\"Size\", y=\"Price\", data=df1)"
      ],
      "execution_count": null,
      "outputs": []
    },
    {
      "cell_type": "markdown",
      "metadata": {
        "id": "QqBPcp9rDcRh"
      },
      "source": [
        "##### Exercise 2: Find the popular app categories based on rating and no. of installs\n",
        "\n",
        "**Hint:** [df.groupby.agg()](https://pandas.pydata.org/pandas-docs/version/0.22/generated/pandas.core.groupby.DataFrameGroupBy.agg.html); Taking the average rating could be another approach\n",
        "\n"
      ]
    },
    {
      "cell_type": "code",
      "source": [
        "df1.info()"
      ],
      "metadata": {
        "id": "Mi_Bt8g2hMm-"
      },
      "execution_count": null,
      "outputs": []
    },
    {
      "cell_type": "code",
      "source": [
        "pop_app=df1.groupby('Category').agg({'Installs': 'sum', 'Rating': 'mean'})\n",
        "pop_app=pop_app.sort_values(by=['Installs','Rating'],ascending=False)\n",
        "pop_app.head(10)"
      ],
      "metadata": {
        "id": "l1l192xGayFT"
      },
      "execution_count": null,
      "outputs": []
    },
    {
      "cell_type": "code",
      "source": [
        "df1.groupby('Category')['Installs'].sum().sort_values(ascending=False).head(5)"
      ],
      "metadata": {
        "id": "jK9s-M4CZ9mJ"
      },
      "execution_count": null,
      "outputs": []
    },
    {
      "cell_type": "code",
      "metadata": {
        "id": "xWftl4eC2jNU"
      },
      "source": [
        "# YOUR CODE HERE\n",
        "df1.groupby('Category')['Rating'].mean().sort_values(ascending=False).head(5)"
      ],
      "execution_count": null,
      "outputs": []
    },
    {
      "cell_type": "markdown",
      "metadata": {
        "id": "Kksy2sD4CMKQ"
      },
      "source": [
        "##### Exercise 3: How many apps are produced in each year category-wise ?\n",
        "\n",
        "  * Create a `Year` column by slicing the values of `Last Updated` column and find the Year with most no. of apps produced\n",
        "\n",
        "    **For example**, slice the year `2017` from `February 8, 2017`\n",
        "\n",
        "  * Find the categories which have a consistent rating in each year\n",
        "\n",
        "      **Hint:** `sns.countplot`"
      ]
    },
    {
      "cell_type": "code",
      "source": [
        "df1['Last Updated']=pd.to_datetime(df1['Last Updated'])"
      ],
      "metadata": {
        "id": "kZrJPwHFcthZ"
      },
      "execution_count": null,
      "outputs": []
    },
    {
      "cell_type": "code",
      "source": [
        "df1['Last_Updated_year']=df1['Last Updated'].dt.year\n",
        "df1.head(2)"
      ],
      "metadata": {
        "id": "o6n6wwmJctLX"
      },
      "execution_count": null,
      "outputs": []
    },
    {
      "cell_type": "code",
      "metadata": {
        "id": "3ZpnlYfHCO3P"
      },
      "source": [
        "# YOUR CODE HERE\n",
        "sns.countplot(x=\"Category\", hue='Last_Updated_year', data=df1)"
      ],
      "execution_count": null,
      "outputs": []
    },
    {
      "cell_type": "markdown",
      "metadata": {
        "id": "TnhRhfWadnGK"
      },
      "source": [
        "##### Exercise 4: Identify the highest paid apps with a good rating"
      ]
    },
    {
      "cell_type": "code",
      "source": [
        "df1.App.value_counts().sort_values()"
      ],
      "metadata": {
        "id": "zewvddpKfrVA"
      },
      "execution_count": null,
      "outputs": []
    },
    {
      "cell_type": "code",
      "source": [
        "df1['Reviews']=df1['Reviews'].astype(int)"
      ],
      "metadata": {
        "id": "5MWn77lFmVS9"
      },
      "execution_count": null,
      "outputs": []
    },
    {
      "cell_type": "code",
      "metadata": {
        "id": "9LmV1w_JdvRg"
      },
      "source": [
        "# YOUR CODE HERE\n",
        "Highest_paid=df1.groupby('App').agg({'Price': 'mean', 'Rating': 'mean'})\n",
        "Highest_paid=Highest_paid.sort_values(by=['Price','Rating'],ascending=False)\n",
        "Highest_paid"
      ],
      "execution_count": null,
      "outputs": []
    },
    {
      "cell_type": "markdown",
      "metadata": {
        "id": "NSCEb0GX5-d1"
      },
      "source": [
        "##### Exercise 5: Are the top-rated apps genuine ? How about checking reviews count of top-rated apps ?"
      ]
    },
    {
      "cell_type": "code",
      "metadata": {
        "id": "n8kGpmMmx7HI"
      },
      "source": [
        "# YOUR CODE HERE\n",
        "top_rate=df1.groupby('App').agg({'Reviews': 'sum', 'Rating': 'mean'})\n",
        "top_rate=top_rate.sort_values(by=['Reviews','Rating'],ascending=False)\n",
        "top_rate"
      ],
      "execution_count": null,
      "outputs": []
    },
    {
      "cell_type": "markdown",
      "metadata": {
        "id": "rXQfqIixzC4_"
      },
      "source": [
        "##### Exercise 6: If the number of reviews of an app is very low, what could be the reason for its top-rating ?"
      ]
    },
    {
      "cell_type": "code",
      "source": [
        "# YOUR CODE HERE\n",
        "df1[df1['Reviews']>0].groupby(['Type']).agg({'Reviews': 'mean', 'Rating': 'mean'})"
      ],
      "metadata": {
        "id": "9VKBGvx3n7T5"
      },
      "execution_count": null,
      "outputs": []
    },
    {
      "cell_type": "code",
      "source": [
        "low_rate_high_reviews=df1.groupby('App').agg({'Reviews': 'sum', 'Rating': 'mean', 'Installs': 'sum')\n",
        "low_rate_high_reviews=low_rate_high_reviews.sort_values(by=['Reviews','Rating'],ascending=[True,False])\n",
        "low_rate_high_reviews"
      ],
      "metadata": {
        "id": "4r-rP2Pen3do"
      },
      "execution_count": null,
      "outputs": []
    },
    {
      "cell_type": "code",
      "metadata": {
        "id": "J_gj_f-UzGEF"
      },
      "source": [
        "low_rate_high_reviews['review_percentage']=low_rate_high_reviews['']"
      ],
      "execution_count": null,
      "outputs": []
    },
    {
      "cell_type": "markdown",
      "source": [
        "##### Exercise 7: What is the 95% confidence interval for the rating of apps in the Google Play Store?"
      ],
      "metadata": {
        "id": "OGMPVx-oLVDM"
      }
    },
    {
      "cell_type": "code",
      "source": [
        "df1.Rating.quantile(0.95)"
      ],
      "metadata": {
        "id": "wq-kkjJ0sAxD"
      },
      "execution_count": null,
      "outputs": []
    },
    {
      "cell_type": "code",
      "metadata": {
        "id": "PCqAHD0OLyFj"
      },
      "source": [
        "# YOUR CODE HERE\n",
        "df1[df1['Rating'] > df1.Rating.quantile(0.95)]"
      ],
      "execution_count": null,
      "outputs": []
    },
    {
      "cell_type": "markdown",
      "source": [
        "##### Exercise 8: Test if there is a statistically significant difference in the ratings between free and paid apps using a t-test\n",
        "\n",
        "Steps:\n",
        "\n",
        "* Set the null hypothesis and alternate hypothesis\n",
        "* Separate the ratings of free and paid apps.\n",
        "* Perform t-test: Use an independent samples t-test.\n",
        "* Interpret results based on the p-value, decide whether to reject or fail to reject the null hypothesis."
      ],
      "metadata": {
        "id": "yTwkV1aqJ2VL"
      }
    },
    {
      "cell_type": "code",
      "metadata": {
        "id": "cxxay7xvLA2U"
      },
      "source": [
        "# YOUR CODE HERE"
      ],
      "execution_count": null,
      "outputs": []
    },
    {
      "cell_type": "code",
      "source": [],
      "metadata": {
        "id": "mT0Nvt7Inmlq"
      },
      "execution_count": null,
      "outputs": []
    }
  ]
}